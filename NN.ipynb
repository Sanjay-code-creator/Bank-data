{
 "cells": [
  {
   "cell_type": "code",
   "execution_count": 43,
   "metadata": {},
   "outputs": [],
   "source": [
    "import numpy as np\n",
    "from matplotlib import pyplot as plt\n",
    "import pandas as pd\n",
    "from sklearn.preprocessing import LabelEncoder,OneHotEncoder\n",
    "from sklearn.compose import ColumnTransformer\n",
    "from sklearn.model_selection import train_test_split\n",
    "from sklearn.preprocessing import StandardScaler\n",
    "import keras\n",
    "from keras.models import Sequential\n",
    "from keras.layers import Dense\n",
    "from sklearn.metrics import confusion_matrix"
   ]
  },
  {
   "cell_type": "markdown",
   "metadata": {},
   "source": [
    "dataset=pd.read_csv(\"C:\\\\Users\\\\sanju\\\\OneDrive\\\\Documents\\\\Churn_Modeling.csv\")"
   ]
  },
  {
   "cell_type": "code",
   "execution_count": 23,
   "metadata": {},
   "outputs": [],
   "source": [
    "X=dataset.iloc[:,3:13].values\n"
   ]
  },
  {
   "cell_type": "code",
   "execution_count": 24,
   "metadata": {},
   "outputs": [],
   "source": [
    "y=dataset.iloc[:,13].values\n"
   ]
  },
  {
   "cell_type": "code",
   "execution_count": 25,
   "metadata": {},
   "outputs": [],
   "source": [
    "label_Encoder_1=LabelEncoder()\n",
    "X[:,1]=label_Encoder_1.fit_transform(X[:,1])"
   ]
  },
  {
   "cell_type": "code",
   "execution_count": 26,
   "metadata": {},
   "outputs": [],
   "source": [
    "label_Encoder_2=LabelEncoder()\n",
    "X[:,2]=label_Encoder_2.fit_transform(X[:,2])"
   ]
  },
  {
   "cell_type": "code",
   "execution_count": 27,
   "metadata": {},
   "outputs": [],
   "source": [
    "ct = ColumnTransformer([(\"Country\", OneHotEncoder(), [1])], remainder = 'passthrough')\n",
    "X = ct.fit_transform(X)\n"
   ]
  },
  {
   "cell_type": "code",
   "execution_count": 28,
   "metadata": {},
   "outputs": [],
   "source": [
    "X=X[:,1:]"
   ]
  },
  {
   "cell_type": "code",
   "execution_count": 29,
   "metadata": {},
   "outputs": [],
   "source": [
    "X_train,X_test,y_train,y_test=train_test_split(X,y,test_size=0.2,random_state=0)"
   ]
  },
  {
   "cell_type": "code",
   "execution_count": 30,
   "metadata": {},
   "outputs": [],
   "source": [
    "sc=StandardScaler()\n",
    "X_train = sc.fit_transform(X_train)\n",
    "X_test=sc.transform(X_test)"
   ]
  },
  {
   "cell_type": "code",
   "execution_count": 31,
   "metadata": {},
   "outputs": [],
   "source": [
    "classifier=Sequential()"
   ]
  },
  {
   "cell_type": "code",
   "execution_count": 32,
   "metadata": {},
   "outputs": [
    {
     "name": "stderr",
     "output_type": "stream",
     "text": [
      "C:\\Users\\sanju\\anaconda3\\lib\\site-packages\\ipykernel_launcher.py:1: UserWarning: Update your `Dense` call to the Keras 2 API: `Dense(activation=\"relu\", input_dim=11, units=6, kernel_initializer=\"uniform\")`\n",
      "  \"\"\"Entry point for launching an IPython kernel.\n"
     ]
    }
   ],
   "source": [
    "classifier.add(Dense(output_dim=6,init=\"uniform\",activation=\"relu\",input_dim=11))"
   ]
  },
  {
   "cell_type": "code",
   "execution_count": 33,
   "metadata": {},
   "outputs": [
    {
     "name": "stderr",
     "output_type": "stream",
     "text": [
      "C:\\Users\\sanju\\anaconda3\\lib\\site-packages\\ipykernel_launcher.py:1: UserWarning: Update your `Dense` call to the Keras 2 API: `Dense(activation=\"relu\", units=6, kernel_initializer=\"uniform\")`\n",
      "  \"\"\"Entry point for launching an IPython kernel.\n"
     ]
    }
   ],
   "source": [
    "classifier.add(Dense(output_dim=6,init=\"uniform\",activation=\"relu\"))"
   ]
  },
  {
   "cell_type": "code",
   "execution_count": 34,
   "metadata": {},
   "outputs": [
    {
     "name": "stderr",
     "output_type": "stream",
     "text": [
      "C:\\Users\\sanju\\anaconda3\\lib\\site-packages\\ipykernel_launcher.py:1: UserWarning: Update your `Dense` call to the Keras 2 API: `Dense(activation=\"sigmoid\", units=1, kernel_initializer=\"uniform\")`\n",
      "  \"\"\"Entry point for launching an IPython kernel.\n"
     ]
    }
   ],
   "source": [
    "classifier.add(Dense(output_dim=1,init=\"uniform\",activation=\"sigmoid\"))"
   ]
  },
  {
   "cell_type": "code",
   "execution_count": 35,
   "metadata": {},
   "outputs": [],
   "source": [
    "classifier.compile(optimizer=\"adam\",loss=\"binary_crossentropy\",metrics=[\"accuracy\"])"
   ]
  },
  {
   "cell_type": "code",
   "execution_count": 36,
   "metadata": {},
   "outputs": [
    {
     "name": "stderr",
     "output_type": "stream",
     "text": [
      "C:\\Users\\sanju\\anaconda3\\lib\\site-packages\\ipykernel_launcher.py:1: UserWarning: The `nb_epoch` argument in `fit` has been renamed `epochs`.\n",
      "  \"\"\"Entry point for launching an IPython kernel.\n"
     ]
    },
    {
     "name": "stdout",
     "output_type": "stream",
     "text": [
      "Epoch 1/100\n",
      "8000/8000 [==============================] - 1s 101us/step - loss: 0.4940 - accuracy: 0.7962\n",
      "Epoch 2/100\n",
      "8000/8000 [==============================] - 1s 85us/step - loss: 0.4266 - accuracy: 0.7960\n",
      "Epoch 3/100\n",
      "8000/8000 [==============================] - 1s 86us/step - loss: 0.4190 - accuracy: 0.8214\n",
      "Epoch 4/100\n",
      "8000/8000 [==============================] - 1s 88us/step - loss: 0.4131 - accuracy: 0.8303\n",
      "Epoch 5/100\n",
      "8000/8000 [==============================] - 1s 88us/step - loss: 0.4092 - accuracy: 0.8331\n",
      "Epoch 6/100\n",
      "8000/8000 [==============================] - 1s 84us/step - loss: 0.4067 - accuracy: 0.8335\n",
      "Epoch 7/100\n",
      "8000/8000 [==============================] - 1s 87us/step - loss: 0.4047 - accuracy: 0.8331\n",
      "Epoch 8/100\n",
      "8000/8000 [==============================] - 1s 85us/step - loss: 0.4036 - accuracy: 0.8359\n",
      "Epoch 9/100\n",
      "8000/8000 [==============================] - 1s 88us/step - loss: 0.4023 - accuracy: 0.8351\n",
      "Epoch 10/100\n",
      "8000/8000 [==============================] - 1s 86us/step - loss: 0.4018 - accuracy: 0.8350\n",
      "Epoch 11/100\n",
      "8000/8000 [==============================] - 1s 84us/step - loss: 0.4011 - accuracy: 0.8350\n",
      "Epoch 12/100\n",
      "8000/8000 [==============================] - 1s 87us/step - loss: 0.4002 - accuracy: 0.8356\n",
      "Epoch 13/100\n",
      "8000/8000 [==============================] - 1s 87us/step - loss: 0.3995 - accuracy: 0.8345\n",
      "Epoch 14/100\n",
      "8000/8000 [==============================] - 1s 85us/step - loss: 0.3993 - accuracy: 0.8344\n",
      "Epoch 15/100\n",
      "8000/8000 [==============================] - 1s 83us/step - loss: 0.3987 - accuracy: 0.8336\n",
      "Epoch 16/100\n",
      "8000/8000 [==============================] - ETA: 0s - loss: 0.3996 - accuracy: 0.83 - 1s 82us/step - loss: 0.3983 - accuracy: 0.8356\n",
      "Epoch 17/100\n",
      "8000/8000 [==============================] - 1s 80us/step - loss: 0.3980 - accuracy: 0.8359\n",
      "Epoch 18/100\n",
      "8000/8000 [==============================] - 1s 83us/step - loss: 0.3972 - accuracy: 0.8359\n",
      "Epoch 19/100\n",
      "8000/8000 [==============================] - 1s 84us/step - loss: 0.3972 - accuracy: 0.8351\n",
      "Epoch 20/100\n",
      "8000/8000 [==============================] - 1s 83us/step - loss: 0.3971 - accuracy: 0.8375\n",
      "Epoch 21/100\n",
      "8000/8000 [==============================] - 1s 89us/step - loss: 0.3969 - accuracy: 0.8345\n",
      "Epoch 22/100\n",
      "8000/8000 [==============================] - 1s 90us/step - loss: 0.3960 - accuracy: 0.8365\n",
      "Epoch 23/100\n",
      "8000/8000 [==============================] - 1s 86us/step - loss: 0.3961 - accuracy: 0.8374\n",
      "Epoch 24/100\n",
      "8000/8000 [==============================] - 1s 88us/step - loss: 0.3961 - accuracy: 0.8372\n",
      "Epoch 25/100\n",
      "8000/8000 [==============================] - 1s 88us/step - loss: 0.3956 - accuracy: 0.8369\n",
      "Epoch 26/100\n",
      "8000/8000 [==============================] - 1s 82us/step - loss: 0.3956 - accuracy: 0.8371\n",
      "Epoch 27/100\n",
      "8000/8000 [==============================] - 1s 88us/step - loss: 0.3958 - accuracy: 0.8361\n",
      "Epoch 28/100\n",
      "8000/8000 [==============================] - 1s 90us/step - loss: 0.3954 - accuracy: 0.8371\n",
      "Epoch 29/100\n",
      "8000/8000 [==============================] - 1s 90us/step - loss: 0.3955 - accuracy: 0.8378\n",
      "Epoch 30/100\n",
      "8000/8000 [==============================] - 1s 89us/step - loss: 0.3953 - accuracy: 0.8367\n",
      "Epoch 31/100\n",
      "8000/8000 [==============================] - 1s 86us/step - loss: 0.3951 - accuracy: 0.8386\n",
      "Epoch 32/100\n",
      "8000/8000 [==============================] - 1s 82us/step - loss: 0.3949 - accuracy: 0.8379\n",
      "Epoch 33/100\n",
      "8000/8000 [==============================] - 1s 91us/step - loss: 0.3945 - accuracy: 0.8381\n",
      "Epoch 34/100\n",
      "8000/8000 [==============================] - 1s 88us/step - loss: 0.3949 - accuracy: 0.8357\n",
      "Epoch 35/100\n",
      "8000/8000 [==============================] - 1s 85us/step - loss: 0.3949 - accuracy: 0.8353\n",
      "Epoch 36/100\n",
      "8000/8000 [==============================] - 1s 86us/step - loss: 0.3943 - accuracy: 0.8381\n",
      "Epoch 37/100\n",
      "8000/8000 [==============================] - 1s 88us/step - loss: 0.3953 - accuracy: 0.8363\n",
      "Epoch 38/100\n",
      "8000/8000 [==============================] - 1s 83us/step - loss: 0.3946 - accuracy: 0.8390\n",
      "Epoch 39/100\n",
      "8000/8000 [==============================] - 1s 90us/step - loss: 0.3942 - accuracy: 0.8374\n",
      "Epoch 40/100\n",
      "8000/8000 [==============================] - 1s 120us/step - loss: 0.3947 - accuracy: 0.8376\n",
      "Epoch 41/100\n",
      "8000/8000 [==============================] - 1s 186us/step - loss: 0.3937 - accuracy: 0.8382\n",
      "Epoch 42/100\n",
      "8000/8000 [==============================] - 1s 184us/step - loss: 0.3947 - accuracy: 0.8356\n",
      "Epoch 43/100\n",
      "8000/8000 [==============================] - 1s 184us/step - loss: 0.3948 - accuracy: 0.8365\n",
      "Epoch 44/100\n",
      "8000/8000 [==============================] - 1s 186us/step - loss: 0.3947 - accuracy: 0.8374\n",
      "Epoch 45/100\n",
      "8000/8000 [==============================] - 1s 184us/step - loss: 0.3945 - accuracy: 0.8360\n",
      "Epoch 46/100\n",
      "8000/8000 [==============================] - 1s 184us/step - loss: 0.3940 - accuracy: 0.8376\n",
      "Epoch 47/100\n",
      "8000/8000 [==============================] - 1s 185us/step - loss: 0.3940 - accuracy: 0.8391\n",
      "Epoch 48/100\n",
      "8000/8000 [==============================] - 1s 183us/step - loss: 0.3940 - accuracy: 0.8372\n",
      "Epoch 49/100\n",
      "8000/8000 [==============================] - 1s 182us/step - loss: 0.3937 - accuracy: 0.8381\n",
      "Epoch 50/100\n",
      "8000/8000 [==============================] - 1s 163us/step - loss: 0.3941 - accuracy: 0.8380\n",
      "Epoch 51/100\n",
      "8000/8000 [==============================] - 1s 83us/step - loss: 0.3936 - accuracy: 0.8370\n",
      "Epoch 52/100\n",
      "8000/8000 [==============================] - 1s 85us/step - loss: 0.3938 - accuracy: 0.8372\n",
      "Epoch 53/100\n",
      "8000/8000 [==============================] - 1s 88us/step - loss: 0.3940 - accuracy: 0.8382\n",
      "Epoch 54/100\n",
      "8000/8000 [==============================] - 1s 79us/step - loss: 0.3934 - accuracy: 0.8361\n",
      "Epoch 55/100\n",
      "8000/8000 [==============================] - 1s 87us/step - loss: 0.3936 - accuracy: 0.8369\n",
      "Epoch 56/100\n",
      "8000/8000 [==============================] - 1s 85us/step - loss: 0.3935 - accuracy: 0.8379\n",
      "Epoch 57/100\n",
      "8000/8000 [==============================] - 1s 82us/step - loss: 0.3935 - accuracy: 0.8372 0s - loss: 0.396\n",
      "Epoch 58/100\n",
      "8000/8000 [==============================] - 1s 84us/step - loss: 0.3936 - accuracy: 0.8369\n",
      "Epoch 59/100\n",
      "8000/8000 [==============================] - 1s 85us/step - loss: 0.3933 - accuracy: 0.8386\n",
      "Epoch 60/100\n",
      "8000/8000 [==============================] - 1s 83us/step - loss: 0.3932 - accuracy: 0.8384\n",
      "Epoch 61/100\n",
      "8000/8000 [==============================] - 1s 87us/step - loss: 0.3934 - accuracy: 0.8381\n",
      "Epoch 62/100\n",
      "8000/8000 [==============================] - 1s 89us/step - loss: 0.3930 - accuracy: 0.8371\n",
      "Epoch 63/100\n",
      "8000/8000 [==============================] - 1s 82us/step - loss: 0.3934 - accuracy: 0.8379\n",
      "Epoch 64/100\n",
      "8000/8000 [==============================] - 1s 84us/step - loss: 0.3929 - accuracy: 0.8396\n",
      "Epoch 65/100\n",
      "8000/8000 [==============================] - 1s 89us/step - loss: 0.3929 - accuracy: 0.8382\n",
      "Epoch 66/100\n",
      "8000/8000 [==============================] - 1s 82us/step - loss: 0.3926 - accuracy: 0.8405\n",
      "Epoch 67/100\n",
      "8000/8000 [==============================] - 1s 85us/step - loss: 0.3926 - accuracy: 0.8397\n",
      "Epoch 68/100\n",
      "8000/8000 [==============================] - 1s 81us/step - loss: 0.3929 - accuracy: 0.8397\n",
      "Epoch 69/100\n",
      "8000/8000 [==============================] - 1s 86us/step - loss: 0.3924 - accuracy: 0.8394\n",
      "Epoch 70/100\n",
      "8000/8000 [==============================] - 1s 137us/step - loss: 0.3922 - accuracy: 0.8391\n",
      "Epoch 71/100\n",
      "8000/8000 [==============================] - 2s 194us/step - loss: 0.3914 - accuracy: 0.8388\n",
      "Epoch 72/100\n",
      "8000/8000 [==============================] - 2s 191us/step - loss: 0.3921 - accuracy: 0.8394\n",
      "Epoch 73/100\n",
      "8000/8000 [==============================] - 2s 190us/step - loss: 0.3911 - accuracy: 0.8399\n",
      "Epoch 74/100\n",
      "8000/8000 [==============================] - 1s 184us/step - loss: 0.3907 - accuracy: 0.8415\n",
      "Epoch 75/100\n",
      "8000/8000 [==============================] - 2s 191us/step - loss: 0.3893 - accuracy: 0.8384\n",
      "Epoch 76/100\n",
      "8000/8000 [==============================] - 2s 194us/step - loss: 0.3874 - accuracy: 0.8400\n",
      "Epoch 77/100\n",
      "8000/8000 [==============================] - 2s 193us/step - loss: 0.3866 - accuracy: 0.8401\n",
      "Epoch 78/100\n",
      "8000/8000 [==============================] - 1s 186us/step - loss: 0.3840 - accuracy: 0.8406\n",
      "Epoch 79/100\n",
      "8000/8000 [==============================] - 2s 189us/step - loss: 0.3812 - accuracy: 0.8389\n",
      "Epoch 80/100\n",
      "8000/8000 [==============================] - 2s 189us/step - loss: 0.3793 - accuracy: 0.8386\n",
      "Epoch 81/100\n",
      "8000/8000 [==============================] - 1s 122us/step - loss: 0.3769 - accuracy: 0.8389\n",
      "Epoch 82/100\n",
      "8000/8000 [==============================] - 1s 87us/step - loss: 0.3751 - accuracy: 0.8378 0s - loss: 0.3\n",
      "Epoch 83/100\n",
      "8000/8000 [==============================] - 1s 92us/step - loss: 0.3732 - accuracy: 0.8403\n",
      "Epoch 84/100\n",
      "8000/8000 [==============================] - 1s 88us/step - loss: 0.3709 - accuracy: 0.8418\n",
      "Epoch 85/100\n",
      "8000/8000 [==============================] - 1s 83us/step - loss: 0.3682 - accuracy: 0.8429\n",
      "Epoch 86/100\n",
      "8000/8000 [==============================] - 1s 88us/step - loss: 0.3679 - accuracy: 0.8446\n",
      "Epoch 87/100\n",
      "8000/8000 [==============================] - 1s 86us/step - loss: 0.3656 - accuracy: 0.8468\n",
      "Epoch 88/100\n",
      "8000/8000 [==============================] - 1s 84us/step - loss: 0.3639 - accuracy: 0.8481\n",
      "Epoch 89/100\n",
      "8000/8000 [==============================] - 1s 91us/step - loss: 0.3625 - accuracy: 0.8504\n",
      "Epoch 90/100\n",
      "8000/8000 [==============================] - 1s 91us/step - loss: 0.3618 - accuracy: 0.8528\n",
      "Epoch 91/100\n",
      "8000/8000 [==============================] - 1s 89us/step - loss: 0.3601 - accuracy: 0.8529\n",
      "Epoch 92/100\n",
      "8000/8000 [==============================] - 1s 88us/step - loss: 0.3584 - accuracy: 0.8528\n",
      "Epoch 93/100\n",
      "8000/8000 [==============================] - 1s 89us/step - loss: 0.3568 - accuracy: 0.8546\n",
      "Epoch 94/100\n",
      "8000/8000 [==============================] - 1s 90us/step - loss: 0.3555 - accuracy: 0.8558\n",
      "Epoch 95/100\n",
      "8000/8000 [==============================] - 1s 90us/step - loss: 0.3543 - accuracy: 0.8561\n",
      "Epoch 96/100\n",
      "8000/8000 [==============================] - 1s 91us/step - loss: 0.3533 - accuracy: 0.8591\n",
      "Epoch 97/100\n",
      "8000/8000 [==============================] - 1s 87us/step - loss: 0.3530 - accuracy: 0.8594\n",
      "Epoch 98/100\n",
      "8000/8000 [==============================] - 1s 90us/step - loss: 0.3516 - accuracy: 0.8611\n",
      "Epoch 99/100\n",
      "8000/8000 [==============================] - 1s 87us/step - loss: 0.3512 - accuracy: 0.8600\n",
      "Epoch 100/100\n",
      "8000/8000 [==============================] - 1s 87us/step - loss: 0.3505 - accuracy: 0.8604\n"
     ]
    },
    {
     "data": {
      "text/plain": [
       "<keras.callbacks.callbacks.History at 0x271d458ed48>"
      ]
     },
     "execution_count": 36,
     "metadata": {},
     "output_type": "execute_result"
    }
   ],
   "source": [
    "classifier.fit(X_train,y_train,batch_size=10,nb_epoch=100)"
   ]
  },
  {
   "cell_type": "code",
   "execution_count": 41,
   "metadata": {},
   "outputs": [
    {
     "data": {
      "text/plain": [
       "array([[False],\n",
       "       [False],\n",
       "       [False],\n",
       "       ...,\n",
       "       [False],\n",
       "       [False],\n",
       "       [False]])"
      ]
     },
     "execution_count": 41,
     "metadata": {},
     "output_type": "execute_result"
    }
   ],
   "source": [
    "y_pred=classifier.predict(X_test)\n",
    "y_pred=(y_pred>0.50)\n",
    "y_pred"
   ]
  },
  {
   "cell_type": "code",
   "execution_count": 47,
   "metadata": {},
   "outputs": [
    {
     "data": {
      "text/plain": [
       "array([[1529,   66],\n",
       "       [ 204,  201]], dtype=int64)"
      ]
     },
     "execution_count": 47,
     "metadata": {},
     "output_type": "execute_result"
    }
   ],
   "source": [
    "cm=confusion_matrix(y_test,y_pred)\n",
    "cm"
   ]
  },
  {
   "cell_type": "code",
   "execution_count": 48,
   "metadata": {},
   "outputs": [
    {
     "data": {
      "text/plain": [
       "0.865"
      ]
     },
     "execution_count": 48,
     "metadata": {},
     "output_type": "execute_result"
    }
   ],
   "source": [
    "(1529+201)/2000"
   ]
  },
  {
   "cell_type": "code",
   "execution_count": null,
   "metadata": {},
   "outputs": [],
   "source": []
  }
 ],
 "metadata": {
  "kernelspec": {
   "display_name": "Python 3",
   "language": "python",
   "name": "python3"
  },
  "language_info": {
   "codemirror_mode": {
    "name": "ipython",
    "version": 3
   },
   "file_extension": ".py",
   "mimetype": "text/x-python",
   "name": "python",
   "nbconvert_exporter": "python",
   "pygments_lexer": "ipython3",
   "version": "3.7.6"
  }
 },
 "nbformat": 4,
 "nbformat_minor": 4
}
